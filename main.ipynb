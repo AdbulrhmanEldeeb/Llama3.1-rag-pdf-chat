{
 "cells": [
  {
   "cell_type": "code",
   "execution_count": 1,
   "id": "938ae532-3abc-48bf-84f2-fed88070f789",
   "metadata": {},
   "outputs": [
    {
     "name": "stderr",
     "output_type": "stream",
     "text": [
      "C:\\Users\\hp\\AppData\\Local\\Programs\\Python\\Python312\\Lib\\importlib\\__init__.py:90: LangChainDeprecationWarning: As of langchain-core 0.3.0, LangChain uses pydantic v2 internally. The langchain_core.pydantic_v1 module was a compatibility shim for pydantic v1, and should no longer be used. Please update the code to import from Pydantic directly.\n",
      "\n",
      "For example, replace imports like: `from langchain_core.pydantic_v1 import BaseModel`\n",
      "with: `from pydantic import BaseModel`\n",
      "or the v1 compatibility namespace if you are working in a code base that has not been fully upgraded to pydantic 2 yet. \tfrom pydantic.v1 import BaseModel\n",
      "\n",
      "  return _bootstrap._gcd_import(name[level:], package, level)\n"
     ]
    }
   ],
   "source": [
    "import streamlit as st\n",
    "import os\n",
    "import time\n",
    "\n",
    "# Import required libraries from Langchain and Hugging Face\n",
    "from langchain_groq import ChatGroq\n",
    "from langchain_community.embeddings import HuggingFaceEmbeddings\n",
    "from langchain.text_splitter import RecursiveCharacterTextSplitter\n",
    "from langchain.chains.combine_documents import create_stuff_documents_chain\n",
    "from langchain_core.prompts import ChatPromptTemplate\n",
    "from langchain.chains import create_retrieval_chain\n",
    "from langchain_community.vectorstores import FAISS\n",
    "from langchain_community.document_loaders import PyPDFDirectoryLoader\n",
    "from dotenv import load_dotenv\n",
    "\n",
    "# Load environment variables (API keys, tokens, etc.)\n",
    "load_dotenv()\n",
    "hf_token = os.getenv('hf_token')\n",
    "groq_api_key = os.getenv('groq_api_key')\n",
    "os.environ['HUGGINGFACEHUB_API_TOKEN'] = hf_token\n",
    "os.environ['GROQ_API_KEY'] = groq_api_key\n",
    "os.environ['TF_ENABLE_ONEDNN_OPTS'] = '0' "
   ]
  },
  {
   "cell_type": "code",
   "execution_count": null,
   "id": "fbc6a2ca-c051-4aec-be8a-dd7b5c87ee51",
   "metadata": {},
   "outputs": [],
   "source": []
  }
 ],
 "metadata": {
  "kernelspec": {
   "display_name": "Python 3 (ipykernel)",
   "language": "python",
   "name": "python3"
  },
  "language_info": {
   "codemirror_mode": {
    "name": "ipython",
    "version": 3
   },
   "file_extension": ".py",
   "mimetype": "text/x-python",
   "name": "python",
   "nbconvert_exporter": "python",
   "pygments_lexer": "ipython3",
   "version": "3.12.4"
  }
 },
 "nbformat": 4,
 "nbformat_minor": 5
}
